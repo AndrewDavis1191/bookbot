{
 "cells": [
  {
   "cell_type": "code",
   "execution_count": 2,
   "metadata": {},
   "outputs": [],
   "source": [
    "with open(\"frankenstein.txt\") as f:\n",
    "    file_contents = f.read()"
   ]
  },
  {
   "cell_type": "code",
   "execution_count": 3,
   "metadata": {},
   "outputs": [
    {
     "data": {
      "text/plain": [
       "439898"
      ]
     },
     "execution_count": 3,
     "metadata": {},
     "output_type": "execute_result"
    }
   ],
   "source": [
    "len(file_contents)"
   ]
  },
  {
   "cell_type": "code",
   "execution_count": 5,
   "metadata": {},
   "outputs": [],
   "source": [
    "words = file_contents.split()"
   ]
  },
  {
   "cell_type": "code",
   "execution_count": 6,
   "metadata": {},
   "outputs": [
    {
     "data": {
      "text/plain": [
       "77978"
      ]
     },
     "execution_count": 6,
     "metadata": {},
     "output_type": "execute_result"
    }
   ],
   "source": [
    "len(words)"
   ]
  },
  {
   "cell_type": "code",
   "execution_count": 7,
   "metadata": {},
   "outputs": [],
   "source": [
    "def count_occurrence_of_word(string):\n",
    "    string = string.lower()\n",
    "    counter = 0\n",
    "    for word in words:\n",
    "        word = word.lower()\n",
    "        if string == word:\n",
    "            counter += 1\n",
    "    return counter        \n"
   ]
  },
  {
   "cell_type": "code",
   "execution_count": 9,
   "metadata": {},
   "outputs": [
    {
     "data": {
      "text/plain": [
       "4358"
      ]
     },
     "execution_count": 9,
     "metadata": {},
     "output_type": "execute_result"
    }
   ],
   "source": [
    "count_occurrence_of_word(\"the\")"
   ]
  },
  {
   "cell_type": "code",
   "execution_count": 12,
   "metadata": {},
   "outputs": [],
   "source": [
    "def count_alphabet(file_path):\n",
    "    letter_counts = {}\n",
    "\n",
    "    with open(file_path, 'r') as file:\n",
    "        text = file.read()\n",
    "\n",
    "    for char in text:\n",
    "        if char.isalpha():\n",
    "            char = char.lower()\n",
    "            letter_counts[char] = letter_counts.get(char, 0) + 1\n",
    "\n",
    "    for letter in 'abcdefghijklmnopqrstuvwxyz':\n",
    "        count = letter_counts.get(letter, 0)\n",
    "        print(f'{letter}: {count}')\n"
   ]
  },
  {
   "cell_type": "code",
   "execution_count": 13,
   "metadata": {},
   "outputs": [
    {
     "name": "stdout",
     "output_type": "stream",
     "text": [
      "a: 26743\n",
      "b: 5026\n",
      "c: 9243\n",
      "d: 16863\n",
      "e: 46043\n",
      "f: 8731\n",
      "g: 5974\n",
      "h: 19725\n",
      "i: 24613\n",
      "j: 504\n",
      "k: 1755\n",
      "l: 12739\n",
      "m: 10604\n",
      "n: 24367\n",
      "o: 25225\n",
      "p: 6121\n",
      "q: 324\n",
      "r: 20818\n",
      "s: 21155\n",
      "t: 30365\n",
      "u: 10407\n",
      "v: 3833\n",
      "w: 7638\n",
      "x: 677\n",
      "y: 7914\n",
      "z: 243\n"
     ]
    }
   ],
   "source": [
    "count_alphabet(\"frankenstein.txt\")"
   ]
  }
 ],
 "metadata": {
  "kernelspec": {
   "display_name": "Python 3",
   "language": "python",
   "name": "python3"
  },
  "language_info": {
   "codemirror_mode": {
    "name": "ipython",
    "version": 3
   },
   "file_extension": ".py",
   "mimetype": "text/x-python",
   "name": "python",
   "nbconvert_exporter": "python",
   "pygments_lexer": "ipython3",
   "version": "3.12.3"
  },
  "orig_nbformat": 4
 },
 "nbformat": 4,
 "nbformat_minor": 2
}
